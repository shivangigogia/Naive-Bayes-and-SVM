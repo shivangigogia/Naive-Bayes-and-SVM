{
 "cells": [
  {
   "cell_type": "code",
   "execution_count": 1,
   "metadata": {
    "collapsed": true
   },
   "outputs": [],
   "source": [
    "import numpy as np\n",
    "import sklearn\n",
    "from sklearn import svm\n",
    "import matplotlib.pyplot as plt\n",
    "%matplotlib inline\n",
    "import pandas as pd\n",
    "import datetime"
   ]
  },
  {
   "cell_type": "code",
   "execution_count": 2,
   "metadata": {
    "collapsed": true
   },
   "outputs": [],
   "source": [
    "a = np.linspace(-3,3,100)\n",
    "a2 = np.linspace(0.1,3,100)"
   ]
  },
  {
   "cell_type": "code",
   "execution_count": 3,
   "metadata": {
    "collapsed": false
   },
   "outputs": [],
   "source": [
    "b = -np.log (1/(1+ np.exp(-a)))\n",
    "c = -np.log(1- (1/(1+ np.exp(-a))))\n",
    "d = -np.log(a2)"
   ]
  },
  {
   "cell_type": "code",
   "execution_count": 4,
   "metadata": {
    "collapsed": false
   },
   "outputs": [
    {
     "data": {
      "image/png": "[encoded data removed]",
      "text/plain": [
       "<Figure size 864x288 with 2 Axes>"
      ]
     },
     "metadata": {},
     "output_type": "display_data"
    }
   ],
   "source": [
    "plt.figure(0, figsize=(12,4))\n",
    "plt.subplot(121)\n",
    "plt.title('For y=1')\n",
    "plt.plot(a,b)\n",
    "plt.subplot(122)\n",
    "#plt.ylim(0,)\n",
    "#plt.xlim(0,1.5)\n",
    "plt.title('For y=0')\n",
    "#plt.plot(a2,d)\n",
    "plt.plot(a,c)\n",
    "plt.show()"
   ]
  },
  {
   "cell_type": "code",
   "execution_count": null,
   "metadata": {
    "collapsed": true
   },
   "outputs": [],
   "source": []
  },
  {
   "cell_type": "code",
   "execution_count": 2,
   "metadata": {
    "collapsed": false
   },
   "outputs": [
    {
     "name": "stdout",
     "output_type": "stream",
     "text": [
      "(42000, 785)\n"
     ]
    }
   ],
   "source": [
    "ds = pd.read_csv('/home/rupalibhati/CB-Perceptron/Class_7/train.csv')\n",
    "print ds.shape"
   ]
  },
  {
   "cell_type": "code",
   "execution_count": 4,
   "metadata": {
    "collapsed": true
   },
   "outputs": [],
   "source": [
    "data = ds.values"
   ]
  },
  {
   "cell_type": "code",
   "execution_count": 5,
   "metadata": {
    "collapsed": false
   },
   "outputs": [],
   "source": [
    "X = np.zeros((2000, 784))\n",
    "y = np.zeros((X.shape[0]))\n",
    "\n",
    "for ix in range(X.shape[0]):\n",
    "    if data[ix, 0]%2 == 0:\n",
    "        X[ix, :] = data[ix, 1:]\n",
    "        y[ix] = 0\n",
    "    else:\n",
    "        X[ix, :] = data[ix, 1:]\n",
    "        y[ix] = 1"
   ]
  },
  {
   "cell_type": "code",
   "execution_count": 6,
   "metadata": {
    "collapsed": false
   },
   "outputs": [
    {
     "name": "stdout",
     "output_type": "stream",
     "text": [
      "(1600, 784) (400, 784)\n",
      "(1600,) (400,)\n"
     ]
    }
   ],
   "source": [
    "split = int(0.8 * X.shape[0])\n",
    "\n",
    "X_train = X[:split]\n",
    "X_test = X[split:]\n",
    "\n",
    "y_train = y[:split]\n",
    "y_test = y[split:]\n",
    "\n",
    "print X_train.shape, X_test.shape\n",
    "print y_train.shape, y_test.shape"
   ]
  },
  {
   "cell_type": "code",
   "execution_count": 9,
   "metadata": {
    "collapsed": false
   },
   "outputs": [
    {
     "name": "stdout",
     "output_type": "stream",
     "text": [
      "1.0\n",
      "0.775\n",
      "0:00:04.146688\n"
     ]
    }
   ],
   "source": [
    "start = datetime.datetime.now()\n",
    "cf1 = svm.SVC(kernel='linear')\n",
    "\n",
    "cf1.fit(X_train, y_train)\n",
    "\n",
    "print cf1.score(X_train, y_train)\n",
    "print cf1.score(X_test, y_test)\n",
    "print datetime.datetime.now() - start"
   ]
  },
  {
   "cell_type": "code",
   "execution_count": 10,
   "metadata": {
    "collapsed": true
   },
   "outputs": [],
   "source": [
    "svm.SVC?"
   ]
  },
  {
   "cell_type": "code",
   "execution_count": 11,
   "metadata": {
    "collapsed": false
   },
   "outputs": [
    {
     "name": "stdout",
     "output_type": "stream",
     "text": [
      "1.0\n",
      "0.9425\n"
     ]
    }
   ],
   "source": [
    "cf1 = svm.SVC(kernel='poly', random_state=21, degree=3)\n",
    "\n",
    "cf1.fit(X_train, y_train)\n",
    "\n",
    "print cf1.score(X_train, y_train)\n",
    "print cf1.score(X_test, y_test)"
   ]
  },
  {
   "cell_type": "code",
   "execution_count": 12,
   "metadata": {
    "collapsed": false
   },
   "outputs": [
    {
     "name": "stdout",
     "output_type": "stream",
     "text": [
      "1.0\n",
      "0.4975\n"
     ]
    }
   ],
   "source": [
    "cf1 = svm.SVC(kernel='rbf')\n",
    "\n",
    "cf1.fit(X_train, y_train)\n",
    "\n",
    "print cf1.score(X_train, y_train)\n",
    "print cf1.score(X_test, y_test)"
   ]
  },
  {
   "cell_type": "code",
   "execution_count": 7,
   "metadata": {
    "collapsed": false
   },
   "outputs": [
    {
     "name": "stderr",
     "output_type": "stream",
     "text": [
      "Using TensorFlow backend.\n"
     ]
    }
   ],
   "source": [
    "import keras\n",
    "from keras.layers import Input, Dense, Conv2D, Flatten, Activation, MaxPooling2D\n",
    "from keras.utils import np_utils\n",
    "from keras.models import Model, Sequential"
   ]
  },
  {
   "cell_type": "code",
   "execution_count": 8,
   "metadata": {
    "collapsed": false
   },
   "outputs": [
    {
     "name": "stdout",
     "output_type": "stream",
     "text": [
      "(1600, 28, 28, 1) (400, 28, 28, 1)\n",
      "(1600, 2) (400, 2)\n"
     ]
    }
   ],
   "source": [
    "X_ = X.reshape((X.shape[0], 28, 28, 1))\n",
    "X_tr = X_[:split]\n",
    "X_te = X_[split:]\n",
    "\n",
    "Y = np_utils.to_categorical(y)\n",
    "Y_train = Y[:split]\n",
    "Y_test = Y[split:]\n",
    "\n",
    "print X_tr.shape, X_te.shape\n",
    "print Y_train.shape, Y_test.shape"
   ]
  },
  {
   "cell_type": "code",
   "execution_count": 8,
   "metadata": {
    "collapsed": true
   },
   "outputs": [],
   "source": [
    "Conv2D?"
   ]
  },
  {
   "cell_type": "code",
   "execution_count": 9,
   "metadata": {
    "collapsed": false
   },
   "outputs": [
    {
     "name": "stdout",
     "output_type": "stream",
     "text": [
      "____________________________________________________________________________________________________\n",
      "Layer (type)                     Output Shape          Param #     Connected to                     \n",
      "====================================================================================================\n",
      "input_1 (InputLayer)             (None, 28, 28, 1)     0                                            \n",
      "____________________________________________________________________________________________________\n",
      "convolution2d_1 (Convolution2D)  (None, 26, 26, 32)    320         input_1[0][0]                    \n",
      "____________________________________________________________________________________________________\n",
      "convolution2d_2 (Convolution2D)  (None, 24, 24, 16)    4624        convolution2d_1[0][0]            \n",
      "____________________________________________________________________________________________________\n",
      "maxpooling2d_1 (MaxPooling2D)    (None, 12, 12, 16)    0           convolution2d_2[0][0]            \n",
      "____________________________________________________________________________________________________\n",
      "convolution2d_3 (Convolution2D)  (None, 8, 8, 8)       3208        maxpooling2d_1[0][0]             \n",
      "____________________________________________________________________________________________________\n",
      "flatten_1 (Flatten)              (None, 512)           0           convolution2d_3[0][0]            \n",
      "____________________________________________________________________________________________________\n",
      "dense_1 (Dense)                  (None, 64)            32832       flatten_1[0][0]                  \n",
      "____________________________________________________________________________________________________\n",
      "dense_2 (Dense)                  (None, 2)             130         dense_1[0][0]                    \n",
      "====================================================================================================\n",
      "Total params: 41,114\n",
      "Trainable params: 41,114\n",
      "Non-trainable params: 0\n",
      "____________________________________________________________________________________________________\n"
     ]
    }
   ],
   "source": [
    "\n",
    "inp = Input(shape=(28, 28, 1))\n",
    "#inp = Input(shape=(1600,28, 28, 1))\n",
    "\n",
    "c1 = Conv2D(32, 3,3, activation='relu')(inp)\n",
    "c2 = Conv2D(16, 3,3, activation='relu')(c1)\n",
    "\n",
    "mp1 = MaxPooling2D(pool_size=(2, 2))(c2)\n",
    "\n",
    "c3 = Conv2D(8, 5,5, activation='relu')(mp1)\n",
    "f1 = Flatten()(c3)\n",
    "\n",
    "fc1 = Dense(64, activation='relu')(f1)\n",
    "fc2 = Dense(2, activation='softmax')(fc1)\n",
    "\n",
    "model = Model(input=inp, output=fc2)\n",
    "model.summary()\n",
    "\n",
    "model.compile(optimizer='adam', loss='categorical_crossentropy', metrics=['accuracy'])"
   ]
  },
  {
   "cell_type": "code",
   "execution_count": 10,
   "metadata": {
    "collapsed": true
   },
   "outputs": [],
   "source": [
    "feature_selector = Model(input=inp, output=fc1)"
   ]
  },
  {
   "cell_type": "code",
   "execution_count": 11,
   "metadata": {
    "collapsed": false
   },
   "outputs": [
    {
     "name": "stdout",
     "output_type": "stream",
     "text": [
      "Train on 1600 samples, validate on 400 samples\n",
      "Epoch 1/9\n",
      "3s - loss: 1.3998 - acc: 0.7650 - val_loss: 0.5714 - val_acc: 0.7900\n",
      "Epoch 2/9\n",
      "3s - loss: 0.2346 - acc: 0.9000 - val_loss: 0.3478 - val_acc: 0.8850\n",
      "Epoch 3/9\n",
      "3s - loss: 0.1134 - acc: 0.9581 - val_loss: 0.2916 - val_acc: 0.9150\n",
      "Epoch 4/9\n",
      "3s - loss: 0.0491 - acc: 0.9844 - val_loss: 0.2689 - val_acc: 0.9100\n",
      "Epoch 5/9\n",
      "3s - loss: 0.0323 - acc: 0.9894 - val_loss: 0.3149 - val_acc: 0.9200\n",
      "Epoch 6/9\n",
      "3s - loss: 0.0153 - acc: 0.9956 - val_loss: 0.2320 - val_acc: 0.9350\n",
      "Epoch 7/9\n",
      "3s - loss: 0.0087 - acc: 0.9988 - val_loss: 0.2767 - val_acc: 0.9300\n",
      "Epoch 8/9\n",
      "3s - loss: 0.0028 - acc: 1.0000 - val_loss: 0.2474 - val_acc: 0.9400\n",
      "Epoch 9/9\n",
      "3s - loss: 0.0014 - acc: 1.0000 - val_loss: 0.2545 - val_acc: 0.9375\n"
     ]
    }
   ],
   "source": [
    "hist = model.fit(X_tr, Y_train,\n",
    "        nb_epoch=9,\n",
    "         shuffle=True,\n",
    "         batch_size=32,\n",
    "         verbose=2,\n",
    "         validation_data=(X_te, Y_test))"
   ]
  },
  {
   "cell_type": "code",
   "execution_count": 12,
   "metadata": {
    "collapsed": true
   },
   "outputs": [],
   "source": [
    "data_new = feature_selector.predict(X_)"
   ]
  },
  {
   "cell_type": "code",
   "execution_count": 13,
   "metadata": {
    "collapsed": false
   },
   "outputs": [
    {
     "name": "stdout",
     "output_type": "stream",
     "text": [
      "(2000, 64)\n"
     ]
    }
   ],
   "source": [
    "print data_new.shape"
   ]
  },
  {
   "cell_type": "code",
   "execution_count": 14,
   "metadata": {
    "collapsed": false
   },
   "outputs": [
    {
     "name": "stdout",
     "output_type": "stream",
     "text": [
      "(1600, 64) (400, 64)\n",
      "(1600,) (400,)\n"
     ]
    }
   ],
   "source": [
    "split = int(0.8 * data_new.shape[0])\n",
    "\n",
    "X_train = data_new[:split]\n",
    "X_test = data_new[split:]\n",
    "\n",
    "y_train = y[:split]\n",
    "y_test = y[split:]\n",
    "\n",
    "print X_train.shape, X_test.shape\n",
    "print y_train.shape, y_test.shape"
   ]
  },
  {
   "cell_type": "code",
   "execution_count": 15,
   "metadata": {
    "collapsed": false
   },
   "outputs": [
    {
     "name": "stdout",
     "output_type": "stream",
     "text": [
      "1.0\n",
      "0.6475\n",
      "0:00:01.119782\n"
     ]
    }
   ],
   "source": [
    "start = datetime.datetime.now()\n",
    "cf1 = svm.SVC(kernel='rbf')\n",
    "\n",
    "cf1.fit(X_train, y_train)\n",
    "\n",
    "print cf1.score(X_train, y_train)\n",
    "print cf1.score(X_test, y_test)\n",
    "print datetime.datetime.now() - start"
   ]
  },
  {
   "cell_type": "code",
   "execution_count": 21,
   "metadata": {
    "collapsed": false
   },
   "outputs": [
    {
     "name": "stdout",
     "output_type": "stream",
     "text": [
      "1.0\n",
      "0.9325\n"
     ]
    }
   ],
   "source": [
    "#cf1 = svm.SVC(kernel='poly', random_state=21, degree=1)\n",
    "cf1 = svm.SVC(kernel='linear')\n",
    "\n",
    "cf1.fit(X_train, y_train)\n",
    "\n",
    "print cf1.score(X_train, y_train)\n",
    "print cf1.score(X_test, y_test)"
   ]
  }
 ],
 "metadata": {
  "kernelspec": {
   "display_name": "Python 2",
   "language": "python",
   "name": "python2"
  },
  "language_info": {
   "codemirror_mode": {
    "name": "ipython",
    "version": 2
   },
   "file_extension": ".py",
   "mimetype": "text/x-python",
   "name": "python",
   "nbconvert_exporter": "python",
   "pygments_lexer": "ipython2",
   "version": "2.7.12"
  }
 },
 "nbformat": 4,
 "nbformat_minor": 2
}
